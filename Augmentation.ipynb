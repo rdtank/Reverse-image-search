{
 "cells": [
  {
   "cell_type": "code",
   "execution_count": 1,
   "metadata": {},
   "outputs": [
    {
     "name": "stderr",
     "output_type": "stream",
     "text": [
      "Using TensorFlow backend.\n"
     ]
    }
   ],
   "source": [
    "from keras.preprocessing.image import ImageDataGenerator, load_img, img_to_array, array_to_img"
   ]
  },
  {
   "cell_type": "code",
   "execution_count": 2,
   "metadata": {},
   "outputs": [],
   "source": [
    "datagen = ImageDataGenerator(\n",
    "        rotation_range=40,\n",
    "        width_shift_range=0.2,\n",
    "        height_shift_range=0.2,\n",
    "        zoom_range=0.2,\n",
    "        horizontal_flip=True,\n",
    "        fill_mode='nearest')"
   ]
  },
  {
   "cell_type": "code",
   "execution_count": 4,
   "metadata": {},
   "outputs": [
    {
     "name": "stdout",
     "output_type": "stream",
     "text": [
      "[[[ 59.  57. 106.]\n",
      "  [ 58.  54. 104.]\n",
      "  [ 58.  48. 101.]\n",
      "  ...\n",
      "  [149. 178. 124.]\n",
      "  [143. 170. 125.]\n",
      "  [178. 205. 162.]]\n",
      "\n",
      " [[ 72.  63. 116.]\n",
      "  [ 75.  65. 118.]\n",
      "  [ 84.  67. 122.]\n",
      "  ...\n",
      "  [144. 173. 119.]\n",
      "  [139. 166. 121.]\n",
      "  [175. 202. 159.]]\n",
      "\n",
      " [[ 77.  56. 115.]\n",
      "  [ 85.  61. 121.]\n",
      "  [ 99.  69. 131.]\n",
      "  ...\n",
      "  [141. 170. 116.]\n",
      "  [137. 164. 119.]\n",
      "  [173. 200. 157.]]\n",
      "\n",
      " ...\n",
      "\n",
      " [[100. 124.  76.]\n",
      "  [ 98. 122.  74.]\n",
      "  [ 96. 119.  75.]\n",
      "  ...\n",
      "  [ 39.  48.  45.]\n",
      "  [ 40.  49.  46.]\n",
      "  [ 42.  51.  48.]]\n",
      "\n",
      " [[ 96. 120.  72.]\n",
      "  [ 96. 120.  72.]\n",
      "  [ 94. 117.  73.]\n",
      "  ...\n",
      "  [ 41.  50.  45.]\n",
      "  [ 43.  52.  47.]\n",
      "  [ 44.  53.  48.]]\n",
      "\n",
      " [[102. 126.  78.]\n",
      "  [101. 125.  77.]\n",
      "  [100. 123.  79.]\n",
      "  ...\n",
      "  [ 41.  50.  45.]\n",
      "  [ 43.  52.  47.]\n",
      "  [ 45.  54.  49.]]]\n"
     ]
    }
   ],
   "source": [
    "img = load_img('butterfly.jpg')\n",
    "img_array = img_to_array(img)\n",
    "print(img_array)"
   ]
  },
  {
   "cell_type": "code",
   "execution_count": 5,
   "metadata": {},
   "outputs": [
    {
     "data": {
      "text/plain": [
       "(214, 300, 3)"
      ]
     },
     "execution_count": 5,
     "metadata": {},
     "output_type": "execute_result"
    }
   ],
   "source": [
    "img_array.shape"
   ]
  },
  {
   "cell_type": "code",
   "execution_count": 10,
   "metadata": {},
   "outputs": [
    {
     "data": {
      "text/plain": [
       "(1, 214, 300, 3)"
      ]
     },
     "execution_count": 10,
     "metadata": {},
     "output_type": "execute_result"
    }
   ],
   "source": [
    "x = img_array.reshape((1,)+img_array.shape)\n",
    "x.shape"
   ]
  },
  {
   "cell_type": "code",
   "execution_count": 12,
   "metadata": {},
   "outputs": [],
   "source": [
    "count = 0\n",
    "for batch in datagen.flow(x, batch_size=5,save_to_dir=\"Augmented Data\", save_prefix=\"img\", save_format='jpeg' ):\n",
    "    count +=1\n",
    "    if count > 10:\n",
    "        break"
   ]
  },
  {
   "cell_type": "code",
   "execution_count": null,
   "metadata": {},
   "outputs": [],
   "source": []
  }
 ],
 "metadata": {
  "kernelspec": {
   "display_name": "Python 3",
   "language": "python",
   "name": "python3"
  },
  "language_info": {
   "codemirror_mode": {
    "name": "ipython",
    "version": 3
   },
   "file_extension": ".py",
   "mimetype": "text/x-python",
   "name": "python",
   "nbconvert_exporter": "python",
   "pygments_lexer": "ipython3",
   "version": "3.7.7"
  }
 },
 "nbformat": 4,
 "nbformat_minor": 4
}
